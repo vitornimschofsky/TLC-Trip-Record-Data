{
 "cells": [
  {
   "cell_type": "code",
   "execution_count": 0,
   "metadata": {
    "application/vnd.databricks.v1+cell": {
     "cellMetadata": {
      "byteLimit": 2048000,
      "rowLimit": 10000
     },
     "inputWidgets": {},
     "nuid": "16c71c5d-ca71-4884-9533-eda2145c4136",
     "showTitle": false,
     "tableResultSettingsMap": {},
     "title": ""
    }
   },
   "outputs": [],
   "source": [
    "# Configuração de credenciais e caminhos\n",
    "from pyspark.sql.functions import col, lit, hour, to_date, year, month\n",
    "from pyspark.sql.types import IntegerType, StringType\n",
    "\n",
    "\n",
    "\n",
    "aws_access_key_id = \"suacredencial\"\n",
    "aws_secret_access_key = \"suacredencial\"\n",
    "s3_bucket_name = \"ifood-case-data-lake-vitor\"\n",
    "\n",
    "silver_path = f\"s3a://{s3_bucket_name}/silver_layer/\"\n",
    "gold_path = f\"s3a://{s3_bucket_name}/gold_layer/\"\n",
    "\n",
    "read_options = {\"fs.s3a.access.key\": aws_access_key_id, \"fs.s3a.secret.key\": aws_secret_access_key}\n",
    "write_options = {\"fs.s3a.access.key\": aws_access_key_id, \"fs.s3a.secret.key\": aws_secret_access_key}"
   ]
  },
  {
   "cell_type": "code",
   "execution_count": 0,
   "metadata": {
    "application/vnd.databricks.v1+cell": {
     "cellMetadata": {
      "byteLimit": 2048000,
      "rowLimit": 10000
     },
     "inputWidgets": {},
     "nuid": "512e60c2-07ee-4e21-83fc-8de21bd428e9",
     "showTitle": false,
     "tableResultSettingsMap": {},
     "title": ""
    }
   },
   "outputs": [],
   "source": [
    "# Leitura dos dados da camada Silver e unificação\n",
    "df_silver_yellow = spark.read.options(**read_options).format(\"delta\").load(f\"{silver_path}yellow/\")\n",
    "df_silver_green = spark.read.options(**read_options).format(\"delta\").load(f\"{silver_path}green/\")\n",
    "df_silver_fhv = spark.read.options(**read_options).format(\"delta\").load(f\"{silver_path}fhv/\")\n",
    "df_silver_fhvhv = spark.read.options(**read_options).format(\"delta\").load(f\"{silver_path}fhvhv/\")\n",
    "\n",
    "\n",
    "# Unificação dos DataFrames para a camada Gold\n",
    "df_gold_raw = (df_silver_yellow.unionByName(df_silver_green, allowMissingColumns=True)\n",
    "                              .unionByName(df_silver_fhv, allowMissingColumns=True)\n",
    "                              .unionByName(df_silver_fhvhv, allowMissingColumns=True))\n"
   ]
  },
  {
   "cell_type": "code",
   "execution_count": 0,
   "metadata": {
    "application/vnd.databricks.v1+cell": {
     "cellMetadata": {
      "byteLimit": 2048000,
      "rowLimit": 10000
     },
     "inputWidgets": {},
     "nuid": "c24f5b9c-55d6-453b-adca-b719e11a24e4",
     "showTitle": false,
     "tableResultSettingsMap": {},
     "title": ""
    }
   },
   "outputs": [
    {
     "output_type": "stream",
     "name": "stdout",
     "output_type": "stream",
     "text": [
      "Tabela de dimensão 'dim_vendor' salva com sucesso.\nTabela de dimensão 'dim_date' salva com sucesso.\n"
     ]
    }
   ],
   "source": [
    "# Criação das tabelas de dimensão (com chaves naturais)\n",
    "# Dimensão de Vendor\n",
    "df_vendor_dim = (df_gold_raw\n",
    "    .select(\"vendor_id\", \"taxi_type\")\n",
    "    .distinct()\n",
    ")\n",
    "df_vendor_dim.write.options(**write_options).option(\"overwriteSchema\", \"true\").format(\"delta\").mode(\"overwrite\").save(gold_path + \"dim_vendor\")\n",
    "print(\"Tabela de dimensão 'dim_vendor' salva com sucesso.\")\n",
    "\n",
    "# Dimensão de Data\n",
    "df_date_dim = (df_gold_raw\n",
    "    .select(\n",
    "        col(\"year\").cast(IntegerType()),\n",
    "        col(\"month\").cast(IntegerType()),\n",
    "        to_date(col(\"pickup_datetime\")).alias(\"pickup_date\")\n",
    "    )\n",
    "    .distinct()\n",
    ")\n",
    "df_date_dim.write.options(**write_options).option(\"overwriteSchema\", \"true\").format(\"delta\").mode(\"overwrite\").save(gold_path + \"dim_date\")\n",
    "print(\"Tabela de dimensão 'dim_date' salva com sucesso.\")\n"
   ]
  },
  {
   "cell_type": "code",
   "execution_count": 0,
   "metadata": {
    "application/vnd.databricks.v1+cell": {
     "cellMetadata": {
      "byteLimit": 2048000,
      "rowLimit": 10000
     },
     "inputWidgets": {},
     "nuid": "d8c928e0-b8fe-43b5-9017-64ed0acd42f3",
     "showTitle": false,
     "tableResultSettingsMap": {},
     "title": ""
    }
   },
   "outputs": [
    {
     "output_type": "stream",
     "name": "stdout",
     "output_type": "stream",
     "text": [
      "Tabela de fatos 'fact_trips' salva com sucesso.\n"
     ]
    }
   ],
   "source": [
    "# Criação da tabela de fatos\n",
    "df_fact = (df_gold_raw\n",
    "    .select(\n",
    "        col(\"is_valid_total_amount\"),\n",
    "        col(\"is_valid_passenger_count\"),\n",
    "        col(\"is_valid_trip_time\"),\n",
    "        col(\"passenger_count\"),\n",
    "        col(\"total_amount\"),\n",
    "        col(\"pickup_datetime\"),\n",
    "        col(\"dropoff_datetime\"),\n",
    "        col(\"vendor_id\"),\n",
    "        col(\"taxi_type\"),\n",
    "        col(\"year\"),\n",
    "        col(\"month\")\n",
    "    )\n",
    ")\n",
    "(df_fact.write.options(**write_options)\n",
    "    .option(\"overwriteSchema\", \"true\")\n",
    "    .format(\"delta\")\n",
    "    .mode(\"overwrite\")\n",
    "    .partitionBy(\"year\", \"month\")\n",
    "    .save(gold_path + \"fact_trips\")\n",
    ")\n",
    "print(\"Tabela de fatos 'fact_trips' salva com sucesso.\")\n",
    "\n"
   ]
  },
  {
   "cell_type": "code",
   "execution_count": 0,
   "metadata": {
    "application/vnd.databricks.v1+cell": {
     "cellMetadata": {
      "byteLimit": 2048000,
      "rowLimit": 10000
     },
     "inputWidgets": {},
     "nuid": "82d65657-0b1b-4cd0-b8ba-d8814a20e4af",
     "showTitle": false,
     "tableResultSettingsMap": {},
     "title": ""
    }
   },
   "outputs": [],
   "source": [
    "\n",
    "# Criacao de views temporárias para as consultas SQL\n",
    "spark.read.options(**read_options).format(\"delta\").load(f\"{gold_path}fact_trips\").createOrReplaceTempView(\"fact_trips\")\n",
    "spark.read.options(**read_options).format(\"delta\").load(f\"{gold_path}dim_vendor\").createOrReplaceTempView(\"dim_vendor\")\n",
    "spark.read.options(**read_options).format(\"delta\").load(f\"{gold_path}dim_date\").createOrReplaceTempView(\"dim_date\")\n"
   ]
  },
  {
   "cell_type": "code",
   "execution_count": 0,
   "metadata": {
    "application/vnd.databricks.v1+cell": {
     "cellMetadata": {
      "byteLimit": 2048000,
      "rowLimit": 10000
     },
     "inputWidgets": {},
     "nuid": "805aa74a-f33a-4204-8507-6858b2d20c37",
     "showTitle": false,
     "tableResultSettingsMap": {},
     "title": ""
    }
   },
   "outputs": [
    {
     "output_type": "stream",
     "name": "stdout",
     "output_type": "stream",
     "text": [
      "Média de valor total (total_amount) por mês para yellow táxis:\n+----+-----+------------------------+\n|year|month|media_valor_total_mensal|\n+----+-----+------------------------+\n|2023|    1|                   26.91|\n|2023|    2|                   26.79|\n|2023|    3|                   27.69|\n|2023|    4|                   28.17|\n|2023|    5|                   28.86|\n+----+-----+------------------------+\n\nMédia de passageiros (passenger_count) por hora em maio para todos os táxis:\n+-----------+-----------------+\n|hora_do_dia|media_passageiros|\n+-----------+-----------------+\n|          0|             1.36|\n|          1|             1.37|\n|          2|             1.38|\n|          3|             1.36|\n|          4|             1.25|\n|          5|             1.17|\n|          6|             1.17|\n|          7|             1.19|\n|          8|              1.2|\n|          9|             1.24|\n|         10|             1.28|\n|         11|              1.3|\n|         12|             1.31|\n|         13|             1.32|\n|         14|             1.32|\n|         15|             1.34|\n|         16|             1.33|\n|         17|             1.33|\n|         18|             1.32|\n|         19|             1.34|\n|         20|             1.35|\n|         21|             1.37|\n|         22|             1.37|\n|         23|             1.36|\n+-----------+-----------------+\n\n"
     ]
    }
   ],
   "source": [
    "# Análises solicitadas no case\n",
    "# A primeira pergunta de análise é: \"Qual a média de valor total (total_amount) recebido em um mês considerando todos os yellow táxis da frota?\"\n",
    "print(\"Média de valor total (total_amount) por mês para yellow táxis:\")\n",
    "spark.sql(\"\"\"\n",
    "    SELECT\n",
    "        f.year,\n",
    "        f.month,\n",
    "        round(AVG(f.total_amount),2) AS media_valor_total_mensal\n",
    "    FROM fact_trips AS f\n",
    "    JOIN dim_vendor AS v ON f.vendor_id = v.vendor_id\n",
    "    WHERE v.taxi_type = 'yellow'\n",
    "    GROUP BY f.year, f.month\n",
    "    ORDER BY f.year, f.month\n",
    "\"\"\").show()\n",
    "\n",
    "# A segunda pergunta de análise é: \"Qual a média de passageiros (passenger_count) por cada hora do dia que pegaram táxi no mês de maio considerando todos os táxis da frota?\"\n",
    "print(\"Média de passageiros (passenger_count) por hora em maio para todos os táxis:\")\n",
    "spark.sql(\"\"\"\n",
    "    SELECT\n",
    "        HOUR(f.pickup_datetime) AS hora_do_dia,\n",
    "        round(AVG(f.passenger_count),2) AS media_passageiros\n",
    "    FROM fact_trips AS f\n",
    "    WHERE f.year = 2023 AND f.month = 5\n",
    "    GROUP BY 1\n",
    "    ORDER BY 1\n",
    "\"\"\").show(50)"
   ]
  }
 ],
 "metadata": {
  "application/vnd.databricks.v1+notebook": {
   "computePreferences": null,
   "dashboards": [],
   "environmentMetadata": {
    "base_environment": "",
    "environment_version": "2"
   },
   "inputWidgetPreferences": null,
   "language": "python",
   "notebookMetadata": {
    "pythonIndentUnit": 4
   },
   "notebookName": "03-Processamento_Gold",
   "widgets": {}
  },
  "language_info": {
   "name": "python"
  }
 },
 "nbformat": 4,
 "nbformat_minor": 0
}
